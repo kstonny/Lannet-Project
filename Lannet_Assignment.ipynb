{
  "nbformat": 4,
  "nbformat_minor": 0,
  "metadata": {
    "colab": {
      "name": "Lannet-Assignment.ipynb",
      "provenance": [],
      "collapsed_sections": [],
      "authorship_tag": "ABX9TyOuLCfsYQfE8XFgzrlfAZSp",
      "include_colab_link": true
    },
    "kernelspec": {
      "name": "python3",
      "display_name": "Python 3"
    }
  },
  "cells": [
    {
      "cell_type": "markdown",
      "metadata": {
        "id": "view-in-github",
        "colab_type": "text"
      },
      "source": [
        "<a href=\"https://colab.research.google.com/github/kstonny/Lannet-Project/blob/master/Lannet_Assignment.ipynb\" target=\"_parent\"><img src=\"https://colab.research.google.com/assets/colab-badge.svg\" alt=\"Open In Colab\"/></a>"
      ]
    },
    {
      "cell_type": "markdown",
      "metadata": {
        "id": "iDvzHw-BiOji",
        "colab_type": "text"
      },
      "source": [
        "###Date identifier function###"
      ]
    },
    {
      "cell_type": "code",
      "metadata": {
        "id": "T9-ADUhsiEl2",
        "colab_type": "code",
        "colab": {}
      },
      "source": [
        "import pandas as pd\n",
        "from datetime import datetime\n",
        "from dateutil import parser\n",
        "import math as m"
      ],
      "execution_count": 2,
      "outputs": []
    },
    {
      "cell_type": "code",
      "metadata": {
        "id": "SLq5gImZifOH",
        "colab_type": "code",
        "colab": {}
      },
      "source": [
        "data = {'date1':['2015-5-02',\"21 June, 2018\", '2015/12/29']\n",
        ",'date2':['2019-6-02',\"21 May, 2018\", '2010/09/29']\n",
        ",'date3':['2019-6-02',\"21 May, 2018\", '2010/09/29']\n",
        ",'date4':['2019-6-02',\"a\", '2010/09/29']}\n",
        "da = pd.DataFrame(data)"
      ],
      "execution_count": 3,
      "outputs": []
    },
    {
      "cell_type": "code",
      "metadata": {
        "id": "ixhC62CBimCR",
        "colab_type": "code",
        "colab": {}
      },
      "source": [
        "# function to calculate the date difference \n",
        "#@input data : dataset\n",
        "def validateDate(data):\n",
        "    #data cloning \n",
        "    originData = data.copy()\n",
        "    \n",
        "    #flag to check whether current colunm is having date or not\n",
        "    isColName = False\n",
        "    \n",
        "    #list to carry names of colunms which have date in it\n",
        "    colName = []\n",
        "    \n",
        "    #iterating through the given dataset\n",
        "    for c in data.columns:\n",
        "        for i in data.index:\n",
        "            try:\n",
        "                #parsing the given date string into date object \n",
        "                d = parser.parse(str(data[c][i]))\n",
        "                \n",
        "                #converting the date object into interger to get date time in millisecond\n",
        "                data[c][i] =  to_integer(d)\n",
        "                isColName = True\n",
        "            except ValueError:\n",
        "                data[c][i] = 0\n",
        "                pass\n",
        "            \n",
        "       #checking if colunm have date in it append colName list     \n",
        "        if isColName:\n",
        "            colName.append(c)\n",
        "            isColName = False\n",
        "    \n",
        "    #loop to prepare the dataset by substractimg the dates \n",
        "    for i in range(0,len(colName)-1):\n",
        "        newCol = colName[i]+'-'+colName[i+1]\n",
        "        originData[newCol] = data[colName[i]]-data[colName[i+1]]\n",
        "        if i == (len(colName)-1)-1:\n",
        "            newCol = colName[i+1]+'-'+colName[0]\n",
        "            originData[newCol] = data[colName[i+1]]-data[colName[0]]\n",
        "    \n",
        "    #@return given dataset including the date difference colunms between two dates in seconds\n",
        "    return originData\n",
        "\n",
        "#function to convert date into seconds\n",
        "def to_integer(dt_time):\n",
        "    return 10000*dt_time.year + 100*dt_time.month + dt_time.day"
      ],
      "execution_count": 4,
      "outputs": []
    },
    {
      "cell_type": "code",
      "metadata": {
        "id": "f0JdPoIbiwN4",
        "colab_type": "code",
        "colab": {
          "base_uri": "https://localhost:8080/",
          "height": 136
        },
        "outputId": "d169c1ad-c907-431e-f069-efa0d48037cc"
      },
      "source": [
        "validateDate(da)"
      ],
      "execution_count": 5,
      "outputs": [
        {
          "output_type": "execute_result",
          "data": {
            "text/html": [
              "<div>\n",
              "<style scoped>\n",
              "    .dataframe tbody tr th:only-of-type {\n",
              "        vertical-align: middle;\n",
              "    }\n",
              "\n",
              "    .dataframe tbody tr th {\n",
              "        vertical-align: top;\n",
              "    }\n",
              "\n",
              "    .dataframe thead th {\n",
              "        text-align: right;\n",
              "    }\n",
              "</style>\n",
              "<table border=\"1\" class=\"dataframe\">\n",
              "  <thead>\n",
              "    <tr style=\"text-align: right;\">\n",
              "      <th></th>\n",
              "      <th>date1</th>\n",
              "      <th>date2</th>\n",
              "      <th>date3</th>\n",
              "      <th>date4</th>\n",
              "      <th>date1-date2</th>\n",
              "      <th>date2-date3</th>\n",
              "      <th>date3-date4</th>\n",
              "      <th>date4-date1</th>\n",
              "    </tr>\n",
              "  </thead>\n",
              "  <tbody>\n",
              "    <tr>\n",
              "      <th>0</th>\n",
              "      <td>2015-5-02</td>\n",
              "      <td>2019-6-02</td>\n",
              "      <td>2019-6-02</td>\n",
              "      <td>2019-6-02</td>\n",
              "      <td>-40100</td>\n",
              "      <td>0</td>\n",
              "      <td>0</td>\n",
              "      <td>40100</td>\n",
              "    </tr>\n",
              "    <tr>\n",
              "      <th>1</th>\n",
              "      <td>21 June, 2018</td>\n",
              "      <td>21 May, 2018</td>\n",
              "      <td>21 May, 2018</td>\n",
              "      <td>a</td>\n",
              "      <td>100</td>\n",
              "      <td>0</td>\n",
              "      <td>20180521</td>\n",
              "      <td>-20180621</td>\n",
              "    </tr>\n",
              "    <tr>\n",
              "      <th>2</th>\n",
              "      <td>2015/12/29</td>\n",
              "      <td>2010/09/29</td>\n",
              "      <td>2010/09/29</td>\n",
              "      <td>2010/09/29</td>\n",
              "      <td>50300</td>\n",
              "      <td>0</td>\n",
              "      <td>0</td>\n",
              "      <td>-50300</td>\n",
              "    </tr>\n",
              "  </tbody>\n",
              "</table>\n",
              "</div>"
            ],
            "text/plain": [
              "           date1         date2  ... date3-date4 date4-date1\n",
              "0      2015-5-02     2019-6-02  ...           0       40100\n",
              "1  21 June, 2018  21 May, 2018  ...    20180521   -20180621\n",
              "2     2015/12/29    2010/09/29  ...           0      -50300\n",
              "\n",
              "[3 rows x 8 columns]"
            ]
          },
          "metadata": {
            "tags": []
          },
          "execution_count": 5
        }
      ]
    },
    {
      "cell_type": "markdown",
      "metadata": {
        "id": "J_hQ9uvli3E5",
        "colab_type": "text"
      },
      "source": [
        "###Correlation function###\n"
      ]
    },
    {
      "cell_type": "code",
      "metadata": {
        "id": "l03WljksjtmP",
        "colab_type": "code",
        "colab": {}
      },
      "source": [
        "import pandas as pd"
      ],
      "execution_count": 6,
      "outputs": []
    },
    {
      "cell_type": "code",
      "metadata": {
        "id": "y4Em45XXkC-x",
        "colab_type": "code",
        "colab": {}
      },
      "source": [
        "data2 = { 'GA':[0.033,0.034,0.035,0.022,0.035,0.033,0.035,0.035], 'PN':[6.652,9.039,10.936,10.11,2.963,10.872,21.694,10.936] , 'PC':[6.681 , 6.224 , 10.304 ,9.603  ,17.156 ,10.244 ,22.389 ,10.304], 'MBP':[ 0.194 ,0.194 ,1.015,1.374, 0.599 ,1.015 ,1.015 ,1.015], 'GR':[0.874 ,1.137 ,0.911 ,0.848 , 0.823 ,0.574 ,0.859, 0.911],'AP':[3.177, 3.4 ,4.9,4.566 ,9.406,4.871,9.259 ,4.5]}"
      ],
      "execution_count": 7,
      "outputs": []
    },
    {
      "cell_type": "code",
      "metadata": {
        "id": "T864uK3YkHRr",
        "colab_type": "code",
        "colab": {}
      },
      "source": [
        "df2 = pd.DataFrame(data2)"
      ],
      "execution_count": 8,
      "outputs": []
    },
    {
      "cell_type": "code",
      "metadata": {
        "id": "enm9FbsVkLHD",
        "colab_type": "code",
        "colab": {
          "base_uri": "https://localhost:8080/",
          "height": 284
        },
        "outputId": "b1e1143b-29f3-4b26-b681-51b8346286c2"
      },
      "source": [
        "df2"
      ],
      "execution_count": 10,
      "outputs": [
        {
          "output_type": "execute_result",
          "data": {
            "text/html": [
              "<div>\n",
              "<style scoped>\n",
              "    .dataframe tbody tr th:only-of-type {\n",
              "        vertical-align: middle;\n",
              "    }\n",
              "\n",
              "    .dataframe tbody tr th {\n",
              "        vertical-align: top;\n",
              "    }\n",
              "\n",
              "    .dataframe thead th {\n",
              "        text-align: right;\n",
              "    }\n",
              "</style>\n",
              "<table border=\"1\" class=\"dataframe\">\n",
              "  <thead>\n",
              "    <tr style=\"text-align: right;\">\n",
              "      <th></th>\n",
              "      <th>GA</th>\n",
              "      <th>PN</th>\n",
              "      <th>PC</th>\n",
              "      <th>MBP</th>\n",
              "      <th>GR</th>\n",
              "      <th>AP</th>\n",
              "    </tr>\n",
              "  </thead>\n",
              "  <tbody>\n",
              "    <tr>\n",
              "      <th>0</th>\n",
              "      <td>0.033</td>\n",
              "      <td>6.652</td>\n",
              "      <td>6.681</td>\n",
              "      <td>0.194</td>\n",
              "      <td>0.874</td>\n",
              "      <td>3.177</td>\n",
              "    </tr>\n",
              "    <tr>\n",
              "      <th>1</th>\n",
              "      <td>0.034</td>\n",
              "      <td>9.039</td>\n",
              "      <td>6.224</td>\n",
              "      <td>0.194</td>\n",
              "      <td>1.137</td>\n",
              "      <td>3.400</td>\n",
              "    </tr>\n",
              "    <tr>\n",
              "      <th>2</th>\n",
              "      <td>0.035</td>\n",
              "      <td>10.936</td>\n",
              "      <td>10.304</td>\n",
              "      <td>1.015</td>\n",
              "      <td>0.911</td>\n",
              "      <td>4.900</td>\n",
              "    </tr>\n",
              "    <tr>\n",
              "      <th>3</th>\n",
              "      <td>0.022</td>\n",
              "      <td>10.110</td>\n",
              "      <td>9.603</td>\n",
              "      <td>1.374</td>\n",
              "      <td>0.848</td>\n",
              "      <td>4.566</td>\n",
              "    </tr>\n",
              "    <tr>\n",
              "      <th>4</th>\n",
              "      <td>0.035</td>\n",
              "      <td>2.963</td>\n",
              "      <td>17.156</td>\n",
              "      <td>0.599</td>\n",
              "      <td>0.823</td>\n",
              "      <td>9.406</td>\n",
              "    </tr>\n",
              "    <tr>\n",
              "      <th>5</th>\n",
              "      <td>0.033</td>\n",
              "      <td>10.872</td>\n",
              "      <td>10.244</td>\n",
              "      <td>1.015</td>\n",
              "      <td>0.574</td>\n",
              "      <td>4.871</td>\n",
              "    </tr>\n",
              "    <tr>\n",
              "      <th>6</th>\n",
              "      <td>0.035</td>\n",
              "      <td>21.694</td>\n",
              "      <td>22.389</td>\n",
              "      <td>1.015</td>\n",
              "      <td>0.859</td>\n",
              "      <td>9.259</td>\n",
              "    </tr>\n",
              "    <tr>\n",
              "      <th>7</th>\n",
              "      <td>0.035</td>\n",
              "      <td>10.936</td>\n",
              "      <td>10.304</td>\n",
              "      <td>1.015</td>\n",
              "      <td>0.911</td>\n",
              "      <td>4.500</td>\n",
              "    </tr>\n",
              "  </tbody>\n",
              "</table>\n",
              "</div>"
            ],
            "text/plain": [
              "      GA      PN      PC    MBP     GR     AP\n",
              "0  0.033   6.652   6.681  0.194  0.874  3.177\n",
              "1  0.034   9.039   6.224  0.194  1.137  3.400\n",
              "2  0.035  10.936  10.304  1.015  0.911  4.900\n",
              "3  0.022  10.110   9.603  1.374  0.848  4.566\n",
              "4  0.035   2.963  17.156  0.599  0.823  9.406\n",
              "5  0.033  10.872  10.244  1.015  0.574  4.871\n",
              "6  0.035  21.694  22.389  1.015  0.859  9.259\n",
              "7  0.035  10.936  10.304  1.015  0.911  4.500"
            ]
          },
          "metadata": {
            "tags": []
          },
          "execution_count": 10
        }
      ]
    },
    {
      "cell_type": "code",
      "metadata": {
        "id": "niNJV-0skUpc",
        "colab_type": "code",
        "colab": {}
      },
      "source": [
        "def corr_df(x, corr_val):\n",
        "    '''\n",
        "    Obj: Drops features that are strongly correlated to other features.\n",
        "          This lowers model complexity, and aids in generalizing the model.\n",
        "    Inputs:\n",
        "          df: features df (x)\n",
        "          corr_val: Columns are dropped relative to the corr_val input (e.g. 0.8)\n",
        "    Output: df that only includes uncorrelated features\n",
        "    '''\n",
        "\n",
        "    # Creates Correlation Matrix and Instantiates\n",
        "    corr_matrix = x.corr()\n",
        "    iters = range(len(corr_matrix.columns) - 1)\n",
        "    drop_cols = []\n",
        "    df = pd.DataFrame()\n",
        "    # Iterates through Correlation Matrix Table to find correlated columns\n",
        "    for i in iters:\n",
        "        for j in range(i):\n",
        "            item = corr_matrix.iloc[j:(j+1), (i+1):(i+2)]\n",
        "            col = item.columns\n",
        "            row = item.index\n",
        "            val = item.values\n",
        "            if val >= corr_val:\n",
        "                # Prints the correlated feature set and the corr val\n",
        "                print(col.values[0], \"|\", row.values[0], \"|\", round(val[0][0], 2))\n",
        "                drop_cols.append(i)\n",
        "\n",
        "    print(drop_cols)\n",
        "    drops = sorted(set(drop_cols))[::-1]\n",
        "    print(drops)\n",
        "\n",
        "    # Drops the correlated columns\n",
        "    for i in drops:\n",
        "        col = x.iloc[:, (i+1):(i+2)].columns.values\n",
        "        print(x.drop(col, axis=1))\n",
        "\n",
        "    return df"
      ],
      "execution_count": 11,
      "outputs": []
    },
    {
      "cell_type": "code",
      "metadata": {
        "id": "HAt8WC6KkYti",
        "colab_type": "code",
        "colab": {
          "base_uri": "https://localhost:8080/",
          "height": 242
        },
        "outputId": "2d7626b5-3eae-410a-b269-8db0f35a6d46"
      },
      "source": [
        "corr_df(df2,0.8)"
      ],
      "execution_count": 12,
      "outputs": [
        {
          "output_type": "stream",
          "text": [
            "AP | PC | 0.96\n",
            "[4]\n",
            "[4]\n",
            "      GA      PN      PC    MBP     GR\n",
            "0  0.033   6.652   6.681  0.194  0.874\n",
            "1  0.034   9.039   6.224  0.194  1.137\n",
            "2  0.035  10.936  10.304  1.015  0.911\n",
            "3  0.022  10.110   9.603  1.374  0.848\n",
            "4  0.035   2.963  17.156  0.599  0.823\n",
            "5  0.033  10.872  10.244  1.015  0.574\n",
            "6  0.035  21.694  22.389  1.015  0.859\n",
            "7  0.035  10.936  10.304  1.015  0.911\n"
          ],
          "name": "stdout"
        },
        {
          "output_type": "execute_result",
          "data": {
            "text/html": [
              "<div>\n",
              "<style scoped>\n",
              "    .dataframe tbody tr th:only-of-type {\n",
              "        vertical-align: middle;\n",
              "    }\n",
              "\n",
              "    .dataframe tbody tr th {\n",
              "        vertical-align: top;\n",
              "    }\n",
              "\n",
              "    .dataframe thead th {\n",
              "        text-align: right;\n",
              "    }\n",
              "</style>\n",
              "<table border=\"1\" class=\"dataframe\">\n",
              "  <thead>\n",
              "    <tr style=\"text-align: right;\">\n",
              "      <th></th>\n",
              "    </tr>\n",
              "  </thead>\n",
              "  <tbody>\n",
              "  </tbody>\n",
              "</table>\n",
              "</div>"
            ],
            "text/plain": [
              "Empty DataFrame\n",
              "Columns: []\n",
              "Index: []"
            ]
          },
          "metadata": {
            "tags": []
          },
          "execution_count": 12
        }
      ]
    }
  ]
}